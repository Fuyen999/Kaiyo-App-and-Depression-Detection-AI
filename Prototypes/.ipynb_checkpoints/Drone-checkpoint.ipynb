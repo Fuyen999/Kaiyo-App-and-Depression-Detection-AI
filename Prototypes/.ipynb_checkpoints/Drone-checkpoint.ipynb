{
 "cells": [
  {
   "cell_type": "code",
   "execution_count": null,
   "metadata": {},
   "outputs": [],
   "source": [
    "N, D = input().split(' ')\n",
    "N = int(N)\n",
    "D = int(D)\n",
    "\n",
    "def change_str_to_int(list):\n",
    "    for j in range(len(list)):\n",
    "        list[j] = int(list[j])\n",
    "    return list\n",
    "\n",
    "charging_stations = []\n",
    "for i in range(N):\n",
    "    coordinate = input().split(' ')\n",
    "    change_str_to_int(coordinate)\n",
    "    print(type(coordinate[0]))\n",
    "    charging_stations.append(coordinate)\n",
    "    \n",
    "starting = input().split(' ')\n",
    "starting = change_str_to_int(starting)\n",
    "\n",
    "ending = input().split(' ')\n",
    "ending = change_str_to_int(ending)\n",
    "\n"
   ]
  },
  {
   "cell_type": "raw",
   "metadata": {},
   "source": []
  }
 ],
 "metadata": {
  "kernelspec": {
   "display_name": "Python 3",
   "language": "python",
   "name": "python3"
  },
  "language_info": {
   "codemirror_mode": {
    "name": "ipython",
    "version": 3
   },
   "file_extension": ".py",
   "mimetype": "text/x-python",
   "name": "python",
   "nbconvert_exporter": "python",
   "pygments_lexer": "ipython3",
   "version": "3.7.4"
  }
 },
 "nbformat": 4,
 "nbformat_minor": 2
}
